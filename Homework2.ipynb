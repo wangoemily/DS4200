{
 "cells": [
  {
   "cell_type": "markdown",
   "id": "100bc1e8-e9f4-4777-be2c-9e2a7272a2c1",
   "metadata": {},
   "source": [
    "# DS4200 Homework 2\n",
    "\n",
    "Due: Friday Oct 3rd @ 11:59 PM EST\n",
    "\n",
    "### Submission Instructions\n",
    "Submit this `ipynb` file included with the coding results as well as the picture in the last question to Gradescope (this can also be done via the assignment on Canvas).  To ensure that your submitted files represent your latest code, make sure to give a fresh `Kernel > Restart & Run All` just before uploading the files to gradescope. \n",
    "\n",
    "### Tips for success\n",
    "- Start early\n",
    "- Make use of Piazza\n",
    "- Make use of Office hour\n",
    "- Remember to use cells and headings to make the notebook easy to read (if a grader cannot find the answer to a problem, you will receive no points for it)\n",
    "- Under no circumstances may one student view or share their ungraded homework or quiz with another student [(see also)](http://www.northeastern.edu/osccr/academic-integrity), though you are welcome to **talk about** (not show each other) the problems."
   ]
  },
  {
   "cell_type": "markdown",
   "id": "e2f502e9",
   "metadata": {},
   "source": [
    "### Part 1 - Encodings (25 points)\n",
    "\n",
    "Navigate to [datavizproject](https://datavizproject.com/) and take some time to freely browse the website and explore. After browsing, find a visual encoding on the webpage that is new to you (i.e. one you have never seen before).\n",
    "\n",
    "##### Quesiton 1 (5 pts)\n",
    "Put in this section a screenshot and hyperlink to the visual encoding that is new to you."
   ]
  },
  {
   "cell_type": "markdown",
   "id": "cf478ebd",
   "metadata": {},
   "source": []
  },
  {
   "cell_type": "markdown",
   "id": "4ba1fe9a",
   "metadata": {},
   "source": [
    "##### Question 2 (5 pts)\n",
    "\n",
    "Add a short paragraph explaining what you like and do not like about the new-to-you visual encoding you selected."
   ]
  },
  {
   "cell_type": "markdown",
   "id": "368014f6",
   "metadata": {},
   "source": []
  },
  {
   "cell_type": "markdown",
   "id": "425ce54a",
   "metadata": {},
   "source": [
    "Take a look at the toolbar at the top of the webpage. Note how visualizations are organized (categorized) in multiple ways to help the user identify a visual encoding depending on whether they care about data type, composition, or task.\n",
    "\n",
    "##### Question 3 (5 pts)\n",
    "\n",
    "What does “Input” mean? How are the visualizations categorized in this scheme? How does (if at all) this map to the language in our readings?"
   ]
  },
  {
   "cell_type": "markdown",
   "id": "11a3a5dd",
   "metadata": {},
   "source": []
  },
  {
   "cell_type": "markdown",
   "id": "27e144ca",
   "metadata": {},
   "source": [
    "##### Question 4 (5 pts)\n",
    "\n",
    "What does “Shape” mean? How are the visualizations categorized in this scheme? How does (if at all) this map to the language in our readings?"
   ]
  },
  {
   "cell_type": "markdown",
   "id": "74873916",
   "metadata": {},
   "source": []
  },
  {
   "cell_type": "markdown",
   "id": "6b71376e",
   "metadata": {},
   "source": [
    "##### Question 5 (5 pts)\n",
    "\n",
    "What does “Function” mean? How are the visualizations categorized in this scheme? How does (if at all) this map to the language in our readings?"
   ]
  },
  {
   "cell_type": "markdown",
   "id": "d0686d3c",
   "metadata": {},
   "source": []
  },
  {
   "cell_type": "markdown",
   "id": "1d1f7917",
   "metadata": {},
   "source": [
    "### Part 2 - Xenographics (15 points)\n",
    "\n",
    "Watch the following talk about the Xenographics project by Maarten Lambrechts from the OpenVis Conf (2018): [https://www.youtube.com/watch?v=fp-WNqaQG0s](https://www.youtube.com/watch?v=fp-WNqaQG0s)\n",
    "\n",
    "Next, explore the online collection: https://xeno.graphics/."
   ]
  },
  {
   "cell_type": "markdown",
   "id": "27086946",
   "metadata": {},
   "source": [
    "Then, write a 1-2 paragraph response (minimum 200 words) which addresses the following questions:\n",
    "\n",
    "- What is the Xenographics project, and what is its goal?\n",
    "- How are the visualizations categorized and organized on the project website?\n",
    "- What was the most interesting or surprising thing you learned by watching the talk and exploring the website?\n",
    "- Provide a link and short description to your favorite visualization on the website.\n",
    "\n",
    "Your 1–2 paragraphs evidence a critical and thoughtful effort and answer the posed questions. Your writing shows a high degree of attention to logic and reasoning of points, is written in a clear manner, and words are chosen to precisely express the intended meaning and support reader comprehension. There are few English spelling or grammar mistakes.\t "
   ]
  },
  {
   "cell_type": "markdown",
   "id": "619a7f61",
   "metadata": {},
   "source": []
  },
  {
   "cell_type": "markdown",
   "id": "54394f4a",
   "metadata": {},
   "source": [
    "### Part 3 - Basic data analysis with Altair (40 points)\n",
    "\n",
    "We are going to use the same Weather data from Homework 1 but use Altair to create the data visualziation. \n",
    "\n",
    "##### Question 1 (10 points)\n",
    "\n",
    "Recreate the figure in Part 3 Question 2 in Homework 1 with Altair. Include necessary title and labels. Here is the question again:\n",
    "    \n",
    "    Generate a data visualization to show the relationship between max temperature and weather type."
   ]
  },
  {
   "cell_type": "code",
   "execution_count": 7,
   "id": "22f2dbd0-dfee-4ba6-8e01-cd0162ff10f9",
   "metadata": {},
   "outputs": [
    {
     "data": {
      "text/html": [
       "<div>\n",
       "<style scoped>\n",
       "    .dataframe tbody tr th:only-of-type {\n",
       "        vertical-align: middle;\n",
       "    }\n",
       "\n",
       "    .dataframe tbody tr th {\n",
       "        vertical-align: top;\n",
       "    }\n",
       "\n",
       "    .dataframe thead th {\n",
       "        text-align: right;\n",
       "    }\n",
       "</style>\n",
       "<table border=\"1\" class=\"dataframe\">\n",
       "  <thead>\n",
       "    <tr style=\"text-align: right;\">\n",
       "      <th></th>\n",
       "      <th>date</th>\n",
       "      <th>precipitation</th>\n",
       "      <th>temp_max</th>\n",
       "      <th>temp_min</th>\n",
       "      <th>wind</th>\n",
       "      <th>weather</th>\n",
       "    </tr>\n",
       "  </thead>\n",
       "  <tbody>\n",
       "    <tr>\n",
       "      <th>0</th>\n",
       "      <td>2012-01-01</td>\n",
       "      <td>0.0</td>\n",
       "      <td>12.8</td>\n",
       "      <td>5.0</td>\n",
       "      <td>4.7</td>\n",
       "      <td>drizzle</td>\n",
       "    </tr>\n",
       "    <tr>\n",
       "      <th>1</th>\n",
       "      <td>2012-01-02</td>\n",
       "      <td>10.9</td>\n",
       "      <td>10.6</td>\n",
       "      <td>2.8</td>\n",
       "      <td>4.5</td>\n",
       "      <td>rain</td>\n",
       "    </tr>\n",
       "    <tr>\n",
       "      <th>2</th>\n",
       "      <td>2012-01-03</td>\n",
       "      <td>0.8</td>\n",
       "      <td>11.7</td>\n",
       "      <td>7.2</td>\n",
       "      <td>2.3</td>\n",
       "      <td>rain</td>\n",
       "    </tr>\n",
       "    <tr>\n",
       "      <th>3</th>\n",
       "      <td>2012-01-04</td>\n",
       "      <td>20.3</td>\n",
       "      <td>12.2</td>\n",
       "      <td>5.6</td>\n",
       "      <td>4.7</td>\n",
       "      <td>rain</td>\n",
       "    </tr>\n",
       "    <tr>\n",
       "      <th>4</th>\n",
       "      <td>2012-01-05</td>\n",
       "      <td>1.3</td>\n",
       "      <td>8.9</td>\n",
       "      <td>2.8</td>\n",
       "      <td>6.1</td>\n",
       "      <td>rain</td>\n",
       "    </tr>\n",
       "  </tbody>\n",
       "</table>\n",
       "</div>"
      ],
      "text/plain": [
       "        date  precipitation  temp_max  temp_min  wind  weather\n",
       "0 2012-01-01            0.0      12.8       5.0   4.7  drizzle\n",
       "1 2012-01-02           10.9      10.6       2.8   4.5     rain\n",
       "2 2012-01-03            0.8      11.7       7.2   2.3     rain\n",
       "3 2012-01-04           20.3      12.2       5.6   4.7     rain\n",
       "4 2012-01-05            1.3       8.9       2.8   6.1     rain"
      ]
     },
     "execution_count": 7,
     "metadata": {},
     "output_type": "execute_result"
    }
   ],
   "source": [
    "import warnings\n",
    "warnings.simplefilter(action='ignore', category=FutureWarning)\n",
    "import altair as alt\n",
    "from vega_datasets import data\n",
    "\n",
    "weather = data.seattle_weather()\n",
    "weather.head()"
   ]
  },
  {
   "cell_type": "code",
   "execution_count": null,
   "id": "03311dec",
   "metadata": {},
   "outputs": [],
   "source": []
  },
  {
   "cell_type": "markdown",
   "id": "9c338189",
   "metadata": {},
   "source": [
    "##### Question 2 (10 points)\n",
    "\n",
    "Recreate the figure in Part 3 Question 3 in Homework 1 with Altair. Include necessary title and labels. Here is the question again:\n",
    "    \n",
    "    Generate a data visualization to show the relationship between max temperature and min temperature, and then show different color for differnet weather type."
   ]
  },
  {
   "cell_type": "code",
   "execution_count": null,
   "id": "415f0e2e",
   "metadata": {},
   "outputs": [],
   "source": []
  },
  {
   "cell_type": "markdown",
   "id": "07fc848a",
   "metadata": {},
   "source": [
    "##### Question 3 (10 points)\n",
    "\n",
    "Create a facet figure in Altair with 2 row and 3 columns. For each panel in the facet figure, it shows a scatter plot between the max and min temperature for one type of weather. Use the wind speed to color the points. Also add interaction to show the max and min temperature and wind speed for each data point. Include necessary title and labels. "
   ]
  },
  {
   "cell_type": "code",
   "execution_count": null,
   "id": "d7ada475",
   "metadata": {},
   "outputs": [],
   "source": []
  },
  {
   "cell_type": "markdown",
   "id": "68c1318d",
   "metadata": {},
   "source": [
    "##### Question 4 (10 points)\n",
    "\n",
    "Create a compound figure with at least two types of marks. Show the trend of average temperature (the average of min and max temperature) in 4 years. Note, just use the `date` as X attribute, no need to aggragate for years and you will get a wide figure. Include necessary title and labels."
   ]
  },
  {
   "cell_type": "code",
   "execution_count": null,
   "id": "7111fc8b",
   "metadata": {},
   "outputs": [],
   "source": []
  },
  {
   "cell_type": "markdown",
   "id": "0fb60e35-d96e-40a4-8df1-517b8d19ad0d",
   "metadata": {},
   "source": [
    "### Part 4 - Colors (20 points)\n",
    "\n",
    "Please email the instructor if you have problems to complete the color-related homework. \n",
    "\n",
    "##### Question 1 (5 points)\n",
    "\n",
    "Following is a density plot for the wind speed for all five types of weather. Is there any problems in the figure? Try to name at least two ways you can do to re-design the figure (change the mark/channel/encoding etc.)"
   ]
  },
  {
   "cell_type": "markdown",
   "id": "64380420-b359-4755-8f7d-41b3f5074c03",
   "metadata": {},
   "source": [
    "<img src=\"https://i.ibb.co/QNfQ2tb/visualization.png\" alt=\"visualization\" border=\"0\">"
   ]
  },
  {
   "cell_type": "markdown",
   "id": "b2b521e3-695a-4cd4-94a7-424342ce1c1a",
   "metadata": {},
   "source": []
  },
  {
   "cell_type": "markdown",
   "id": "244ccd0f-db78-4bba-ac73-4de0de567936",
   "metadata": {},
   "source": [
    "##### Question 2 （5 points）\n",
    "\n",
    "Go to [http://vrl.cs.brown.edu/color](http://vrl.cs.brown.edu/color) and select another color palette for the figure. Explain how to set the configuration to get the color palette. Take a screenshot of the color palette you have chosen on the website and then go to [https://www.color-blindness.com/coblis-color-blindness-simulator/](https://www.color-blindness.com/coblis-color-blindness-simulator/) and upload the screenshot. Discuss how one of the color-blind illness affects the figure. "
   ]
  },
  {
   "cell_type": "code",
   "execution_count": null,
   "id": "001c18c6-c39a-43ae-afba-0fc8a5c6c566",
   "metadata": {},
   "outputs": [],
   "source": []
  },
  {
   "cell_type": "markdown",
   "id": "42f07273-5716-4444-9d7b-22c86a8d3827",
   "metadata": {},
   "source": [
    "##### Question 3 (10 points)\n",
    "\n",
    "Based on what we have learned in the lecture, try to create an example for the color illusion. You can choose from: \n",
    "+ Simultaneous Contrast: Colors look different depending on the surrounding colors (light and dark).\n",
    "+ Gradient Illusion: how the gradient background affect the solid color in front of it.\n",
    "+ Color Context Effects: The same color can appear lighter, darker, or even as a different hue depending on its background, eg: the border.\n",
    "\n",
    "Attach the picture of your design to the homework (You can zip the picture and .ipynb file when you submit it or submit the GitHub repo). You can choose any tool for your design, PPT, Canvas, Photoshop etc. Do not directly copy the lecture examples. Write a few sentence about your design. How you design it and which illusion you are addressing. "
   ]
  },
  {
   "cell_type": "code",
   "execution_count": null,
   "id": "0d67e1ed-fc46-43d7-b781-c5e13c3c64b5",
   "metadata": {},
   "outputs": [],
   "source": []
  },
  {
   "cell_type": "markdown",
   "id": "41217e48-674e-4ce2-bf62-7aeff0d07cc8",
   "metadata": {},
   "source": []
  }
 ],
 "metadata": {
  "kernelspec": {
   "display_name": "Python 3",
   "language": "python",
   "name": "python3"
  },
  "language_info": {
   "codemirror_mode": {
    "name": "ipython",
    "version": 3
   },
   "file_extension": ".py",
   "mimetype": "text/x-python",
   "name": "python",
   "nbconvert_exporter": "python",
   "pygments_lexer": "ipython3",
   "version": "3.9.6"
  }
 },
 "nbformat": 4,
 "nbformat_minor": 5
}
